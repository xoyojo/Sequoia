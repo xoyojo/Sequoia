{
 "cells": [
  {
   "cell_type": "code",
   "execution_count": null,
   "id": "8f8c5b36",
   "metadata": {},
   "outputs": [
    {
     "data": {
      "application/vnd.jupyter.widget-view+json": {
       "model_id": "f94f7c647c4041958264056a7deddd87",
       "version_major": 2,
       "version_minor": 0
      },
      "text/plain": [
       "  0%|          | 0/57 [00:00<?, ?it/s]"
      ]
     },
     "metadata": {},
     "output_type": "display_data"
    }
   ],
   "source": [
    "import akshare as ak\n",
    "\n",
    "\n",
    "\n",
    "all_data = ak.stock_zh_a_spot_em()"
   ]
  },
  {
   "cell_type": "code",
   "execution_count": null,
   "id": "4e1255e6",
   "metadata": {},
   "outputs": [],
   "source": [
    "# 读取stock_data.pkl\n",
    "import pickle\n",
    "\n",
    "with open(\"stock_data.pkl\", \"rb\") as f:\n",
    "    stock_data = pickle.load(f)\n",
    "with open(\"results.pkl\", \"rb\") as f1:\n",
    "    results = pickle.load(f1)"
   ]
  },
  {
   "cell_type": "code",
   "execution_count": null,
   "id": "4d97d028",
   "metadata": {},
   "outputs": [],
   "source": [
    "for i, j in stock_data:\n",
    "    print(i, j)"
   ]
  },
  {
   "cell_type": "code",
   "execution_count": 23,
   "id": "bd9601b7",
   "metadata": {},
   "outputs": [
    {
     "name": "stdout",
     "output_type": "stream",
     "text": [
      "{}\n"
     ]
    }
   ],
   "source": [
    "import pickle\n",
    "\n",
    "with open(\"c:\\\\TDXDATA\\\\Sequoia\\\\results.pkl\", \"rb\") as f:\n",
    "    data = pickle.load(f)\n",
    "    print(data)"
   ]
  },
  {
   "cell_type": "code",
   "execution_count": 24,
   "id": "cbc04e8a",
   "metadata": {},
   "outputs": [
    {
     "name": "stdout",
     "output_type": "stream",
     "text": [
      "25\n",
      "30\n"
     ]
    }
   ],
   "source": [
    "# 创建一个以元组为键的字典\n",
    "my_dict = {\n",
    "    (\"Alice\", \"New York\"): 25,\n",
    "    (\"Bob\", \"Los Angeles\"): 30,\n",
    "    (\"Charlie\", \"Chicago\"): 35,\n",
    "}\n",
    "\n",
    "# 通过元组键访问值\n",
    "print(my_dict[(\"Alice\", \"New York\")])  # 输出: 25\n",
    "print(my_dict[(\"Bob\", \"Los Angeles\")])  # 输出: 30"
   ]
  }
 ],
 "metadata": {
  "kernelspec": {
   "display_name": "invest312",
   "language": "python",
   "name": "python3"
  },
  "language_info": {
   "codemirror_mode": {
    "name": "ipython",
    "version": 3
   },
   "file_extension": ".py",
   "mimetype": "text/x-python",
   "name": "python",
   "nbconvert_exporter": "python",
   "pygments_lexer": "ipython3",
   "version": "3.12.3"
  }
 },
 "nbformat": 4,
 "nbformat_minor": 5
}
